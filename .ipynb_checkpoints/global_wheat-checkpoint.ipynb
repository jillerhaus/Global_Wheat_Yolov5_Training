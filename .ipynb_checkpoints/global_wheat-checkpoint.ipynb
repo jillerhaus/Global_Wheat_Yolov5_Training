{
 "cells": [
  {
   "cell_type": "markdown",
   "metadata": {},
   "source": [
    "# Global Wheat Detection\n",
    "\n",
    "In this Project, I will be taking part in the [\"Global Wheat Detection\"](https://www.kaggle.com/c/global-wheat-detection) competition. The goal is to use object detection to detect heads of wheat plants as accurately as possible. My first attempt will be using yolov5 to do this.\n",
    "I have changed something here"
   ]
  },
  {
   "cell_type": "markdown",
   "metadata": {},
   "source": [
    "## Setup\n",
    "The general goal of this notebook will be that it can be run both on my machine, as well as on kaggle. \n",
    "\n",
    "### Imports\n"
   ]
  },
  {
   "cell_type": "code",
   "execution_count": null,
   "metadata": {},
   "outputs": [],
   "source": [
    "print(__name__)"
   ]
  },
  {
   "cell_type": "code",
   "execution_count": null,
   "metadata": {},
   "outputs": [],
   "source": [
    "import pandas as pd\n",
    "import os\n",
    "import numpy as np"
   ]
  },
  {
   "cell_type": "code",
   "execution_count": null,
   "metadata": {},
   "outputs": [],
   "source": [
    "system = os.name\n",
    "if system == 'posix':\n",
    "    kaggle = True\n",
    "    windows = False\n",
    "    print('running on kaggle')\n",
    "elif system == 'nt':\n",
    "    kaggle = False\n",
    "    windows = True\n",
    "    print('running on windows')\n",
    "else:\n",
    "    print('unknown system')"
   ]
  },
  {
   "cell_type": "markdown",
   "metadata": {},
   "source": [
    "### Transforming the Labels for yolov5\n",
    "\n",
    "yolov5 expects the labels in the form:\n",
    "\n",
    "* one txt file per picture\n",
    "* one line per object (Box)\n",
    "* box coordinates have to be normalized (0-1) in the format: x_center, y_center, width, height\n",
    "* class numbers (zero-indexed)"
   ]
  },
  {
   "cell_type": "code",
   "execution_count": null,
   "metadata": {},
   "outputs": [],
   "source": [
    "labels = pd.read_csv('../input/global-wheat-detection/train.csv')"
   ]
  },
  {
   "cell_type": "code",
   "execution_count": null,
   "metadata": {},
   "outputs": [],
   "source": [
    "labels"
   ]
  },
  {
   "cell_type": "markdown",
   "metadata": {},
   "source": [
    "The dataset contains the columns:\n",
    "* `image_id`: the unique identifier for each of the pictures. There is a row for every box, so each picture can occur multiple times\n",
    "* `width` & `height`: number of pixels of width and height of the pictures\n",
    "* `bbox`: coordinates for the box. They are in pixels and follow the format \\[x_min, y_min, width, height\\]\n",
    "* `source`: source of the picture. The pictures of the wheat were taken by different institutions across the world and the reason for the competition is that the models trained seem to work very well in one part of the world, but not generalize very well."
   ]
  },
  {
   "cell_type": "code",
   "execution_count": null,
   "metadata": {},
   "outputs": [],
   "source": [
    "num_labels = np.shape(labels.image_id.unique())[0]\n",
    "num_labels"
   ]
  },
  {
   "cell_type": "markdown",
   "metadata": {},
   "source": [
    "This means there should be about 3373 pictures. It should be a little more, because the explanation of the dataset states, that there are several pictures that do not contain any boxes."
   ]
  },
  {
   "cell_type": "code",
   "execution_count": null,
   "metadata": {},
   "outputs": [],
   "source": [
    "num_pics = len(os.listdir(\"./train\"))\n",
    "num_pics"
   ]
  },
  {
   "cell_type": "code",
   "execution_count": null,
   "metadata": {},
   "outputs": [],
   "source": [
    "num_pics - num_labels"
   ]
  },
  {
   "cell_type": "markdown",
   "metadata": {},
   "source": [
    "This means there are 49 pictures that do not contain any boxes. This is expected and not important when using yolov5, because it doesn't expect a .txt file for pictures that do not contain any boxes, so I won't have to make one"
   ]
  },
  {
   "cell_type": "code",
   "execution_count": null,
   "metadata": {},
   "outputs": [],
   "source": [
    "labels.bbox"
   ]
  },
  {
   "cell_type": "markdown",
   "metadata": {},
   "source": [
    "Now the individual pixel numbers need to be extracted. The individual lists are actually saved as lists, so I will use the pandas.Series.str.extract() method to extract the individual numbers to use for creating the txt files"
   ]
  },
  {
   "cell_type": "code",
   "execution_count": null,
   "metadata": {},
   "outputs": [],
   "source": [
    "pixels = labels.bbox.str.extract(r'(\\d+\\.\\d+)\\,\\s(\\d+\\.\\d+)\\,\\s(\\d+\\.\\d+)\\,\\s(\\d+\\.\\d+)')\n",
    "pixels.columns = ['x_min', 'y_min', 'w_box', 'h_box']"
   ]
  },
  {
   "cell_type": "code",
   "execution_count": null,
   "metadata": {},
   "outputs": [],
   "source": [
    "labels = pd.concat([labels,pixels], axis = 1)"
   ]
  },
  {
   "cell_type": "code",
   "execution_count": null,
   "metadata": {},
   "outputs": [],
   "source": [
    "labels.head(5)"
   ]
  },
  {
   "cell_type": "code",
   "execution_count": null,
   "metadata": {},
   "outputs": [],
   "source": [
    "labels.info()"
   ]
  },
  {
   "cell_type": "markdown",
   "metadata": {},
   "source": [
    "The `width`, `height`, `x_min`, `y_min`, `w_box` and `h_box` columns are still in a str format, but they can be easily transformed with the pandas.Series.astype('float64') method"
   ]
  },
  {
   "cell_type": "code",
   "execution_count": null,
   "metadata": {},
   "outputs": [],
   "source": [
    "labels.width = labels.width.astype('float64')\n",
    "labels.height = labels.height.astype('float64')\n",
    "labels.x_min = labels.x_min.astype('float64')\n",
    "labels.y_min = labels.y_min.astype('float64')\n",
    "labels.w_box = labels.w_box.astype('float64')\n",
    "labels.h_box = labels.h_box.astype('float64')"
   ]
  },
  {
   "cell_type": "code",
   "execution_count": null,
   "metadata": {},
   "outputs": [],
   "source": [
    "labels.info()"
   ]
  },
  {
   "cell_type": "markdown",
   "metadata": {},
   "source": [
    "Now to make the normed coordinates that yolo needs."
   ]
  },
  {
   "cell_type": "code",
   "execution_count": null,
   "metadata": {},
   "outputs": [],
   "source": [
    "(labels.y_min + 0.5 * labels.w_box) / labels.height"
   ]
  },
  {
   "cell_type": "code",
   "execution_count": null,
   "metadata": {},
   "outputs": [],
   "source": [
    "labels['object_class'] = 0 # object class for use by yolo all objects are wheat so class 0\n",
    "labels['x_center_norm'] = ((labels.x_min + 0.5 * labels.w_box) / labels.width).round(5)\n",
    "labels['y_center_norm'] = ((labels.y_min + 0.5 * labels.h_box) / labels.height).round(5)\n",
    "labels['width_norm'] = (labels.w_box/labels.width).round(5)\n",
    "labels['height_norm'] = (labels.h_box/labels.height).round(5)"
   ]
  },
  {
   "cell_type": "code",
   "execution_count": null,
   "metadata": {
    "scrolled": true
   },
   "outputs": [],
   "source": [
    "labels.dropna(inplace = True)"
   ]
  },
  {
   "cell_type": "code",
   "execution_count": null,
   "metadata": {},
   "outputs": [],
   "source": [
    "labels"
   ]
  },
  {
   "cell_type": "markdown",
   "metadata": {},
   "source": [
    "now the only thing left to do is to create the label .txt files."
   ]
  },
  {
   "cell_type": "code",
   "execution_count": null,
   "metadata": {
    "scrolled": true
   },
   "outputs": [],
   "source": [
    "id_nr = labels.image_id.unique()[0]\n",
    "# np.savetxt(r'./labels/'+id_nr+r'.txt', labels[labels.image_id == id_nr].iloc[:, 9:].values, sep = ',')\n",
    "for id_nr in labels.image_id.unique():\n",
    "    labels[labels.image_id == id_nr].iloc[:, 9:].to_csv(r'./labels/'+id_nr+r'.txt',sep = ' ', index = False, header = False)"
   ]
  },
  {
   "cell_type": "code",
   "execution_count": null,
   "metadata": {},
   "outputs": [],
   "source": []
  }
 ],
 "metadata": {
  "kernelspec": {
   "display_name": "Python 3",
   "language": "python",
   "name": "python3"
  },
  "language_info": {
   "codemirror_mode": {
    "name": "ipython",
    "version": 3
   },
   "file_extension": ".py",
   "mimetype": "text/x-python",
   "name": "python",
   "nbconvert_exporter": "python",
   "pygments_lexer": "ipython3",
   "version": "3.7.6"
  },
  "toc": {
   "base_numbering": 1,
   "nav_menu": {},
   "number_sections": false,
   "sideBar": true,
   "skip_h1_title": true,
   "title_cell": "Table of Contents",
   "title_sidebar": "Contents",
   "toc_cell": false,
   "toc_position": {},
   "toc_section_display": true,
   "toc_window_display": true
  },
  "varInspector": {
   "cols": {
    "lenName": 16,
    "lenType": 16,
    "lenVar": 40
   },
   "kernels_config": {
    "python": {
     "delete_cmd_postfix": "",
     "delete_cmd_prefix": "del ",
     "library": "var_list.py",
     "varRefreshCmd": "print(var_dic_list())"
    },
    "r": {
     "delete_cmd_postfix": ") ",
     "delete_cmd_prefix": "rm(",
     "library": "var_list.r",
     "varRefreshCmd": "cat(var_dic_list()) "
    }
   },
   "types_to_exclude": [
    "module",
    "function",
    "builtin_function_or_method",
    "instance",
    "_Feature"
   ],
   "window_display": false
  }
 },
 "nbformat": 4,
 "nbformat_minor": 4
}
