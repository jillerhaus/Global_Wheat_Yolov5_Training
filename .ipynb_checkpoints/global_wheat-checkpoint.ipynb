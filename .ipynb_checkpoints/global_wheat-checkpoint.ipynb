{
 "cells": [
  {
   "cell_type": "markdown",
   "metadata": {},
   "source": [
    "# Global Wheat Detection\n",
    "\n",
    "In this Project, I will be taking part in the [\"Global Wheat Detection\"](https://www.kaggle.com/c/global-wheat-detection) competition. The goal is to use object detection to detect heads of wheat plants as accurately as possible. My first attempt will be using yolov5 to do this."
   ]
  },
  {
   "cell_type": "markdown",
   "metadata": {},
   "source": [
    "## Setup\n",
    "The general goal of this notebook will be that it can be run both on my machine, as well as on kaggle. \n",
    "\n",
    "### Imports\n"
   ]
  },
  {
   "cell_type": "code",
   "execution_count": 1,
   "metadata": {},
   "outputs": [],
   "source": [
    "import pandas as pd\n",
    "import os\n",
    "import numpy as np"
   ]
  },
  {
   "cell_type": "markdown",
   "metadata": {},
   "source": [
    "### Transforming the Labels for yolov5\n",
    "\n",
    "yolov5 expects the labels in the form:\n",
    "\n",
    "* one txt file per picture\n",
    "* one line per object (Box)\n",
    "* box coordinates have to be normalized (0-1) in the format: x_center, y_center, width, height\n",
    "* class numbers (zero-indexed)"
   ]
  },
  {
   "cell_type": "code",
   "execution_count": 2,
   "metadata": {},
   "outputs": [],
   "source": [
    "labels = pd.read_csv('train.csv')"
   ]
  },
  {
   "cell_type": "code",
   "execution_count": 3,
   "metadata": {},
   "outputs": [
    {
     "data": {
      "text/html": [
       "<div>\n",
       "<style scoped>\n",
       "    .dataframe tbody tr th:only-of-type {\n",
       "        vertical-align: middle;\n",
       "    }\n",
       "\n",
       "    .dataframe tbody tr th {\n",
       "        vertical-align: top;\n",
       "    }\n",
       "\n",
       "    .dataframe thead th {\n",
       "        text-align: right;\n",
       "    }\n",
       "</style>\n",
       "<table border=\"1\" class=\"dataframe\">\n",
       "  <thead>\n",
       "    <tr style=\"text-align: right;\">\n",
       "      <th></th>\n",
       "      <th>image_id</th>\n",
       "      <th>width</th>\n",
       "      <th>height</th>\n",
       "      <th>bbox</th>\n",
       "      <th>source</th>\n",
       "    </tr>\n",
       "  </thead>\n",
       "  <tbody>\n",
       "    <tr>\n",
       "      <th>0</th>\n",
       "      <td>b6ab77fd7</td>\n",
       "      <td>1024</td>\n",
       "      <td>1024</td>\n",
       "      <td>[834.0, 222.0, 56.0, 36.0]</td>\n",
       "      <td>usask_1</td>\n",
       "    </tr>\n",
       "    <tr>\n",
       "      <th>1</th>\n",
       "      <td>b6ab77fd7</td>\n",
       "      <td>1024</td>\n",
       "      <td>1024</td>\n",
       "      <td>[226.0, 548.0, 130.0, 58.0]</td>\n",
       "      <td>usask_1</td>\n",
       "    </tr>\n",
       "    <tr>\n",
       "      <th>2</th>\n",
       "      <td>b6ab77fd7</td>\n",
       "      <td>1024</td>\n",
       "      <td>1024</td>\n",
       "      <td>[377.0, 504.0, 74.0, 160.0]</td>\n",
       "      <td>usask_1</td>\n",
       "    </tr>\n",
       "    <tr>\n",
       "      <th>3</th>\n",
       "      <td>b6ab77fd7</td>\n",
       "      <td>1024</td>\n",
       "      <td>1024</td>\n",
       "      <td>[834.0, 95.0, 109.0, 107.0]</td>\n",
       "      <td>usask_1</td>\n",
       "    </tr>\n",
       "    <tr>\n",
       "      <th>4</th>\n",
       "      <td>b6ab77fd7</td>\n",
       "      <td>1024</td>\n",
       "      <td>1024</td>\n",
       "      <td>[26.0, 144.0, 124.0, 117.0]</td>\n",
       "      <td>usask_1</td>\n",
       "    </tr>\n",
       "    <tr>\n",
       "      <th>...</th>\n",
       "      <td>...</td>\n",
       "      <td>...</td>\n",
       "      <td>...</td>\n",
       "      <td>...</td>\n",
       "      <td>...</td>\n",
       "    </tr>\n",
       "    <tr>\n",
       "      <th>147788</th>\n",
       "      <td>5e0747034</td>\n",
       "      <td>1024</td>\n",
       "      <td>1024</td>\n",
       "      <td>[64.0, 619.0, 84.0, 95.0]</td>\n",
       "      <td>arvalis_2</td>\n",
       "    </tr>\n",
       "    <tr>\n",
       "      <th>147789</th>\n",
       "      <td>5e0747034</td>\n",
       "      <td>1024</td>\n",
       "      <td>1024</td>\n",
       "      <td>[292.0, 549.0, 107.0, 82.0]</td>\n",
       "      <td>arvalis_2</td>\n",
       "    </tr>\n",
       "    <tr>\n",
       "      <th>147790</th>\n",
       "      <td>5e0747034</td>\n",
       "      <td>1024</td>\n",
       "      <td>1024</td>\n",
       "      <td>[134.0, 228.0, 141.0, 71.0]</td>\n",
       "      <td>arvalis_2</td>\n",
       "    </tr>\n",
       "    <tr>\n",
       "      <th>147791</th>\n",
       "      <td>5e0747034</td>\n",
       "      <td>1024</td>\n",
       "      <td>1024</td>\n",
       "      <td>[430.0, 13.0, 184.0, 79.0]</td>\n",
       "      <td>arvalis_2</td>\n",
       "    </tr>\n",
       "    <tr>\n",
       "      <th>147792</th>\n",
       "      <td>5e0747034</td>\n",
       "      <td>1024</td>\n",
       "      <td>1024</td>\n",
       "      <td>[875.0, 740.0, 94.0, 61.0]</td>\n",
       "      <td>arvalis_2</td>\n",
       "    </tr>\n",
       "  </tbody>\n",
       "</table>\n",
       "<p>147793 rows × 5 columns</p>\n",
       "</div>"
      ],
      "text/plain": [
       "         image_id  width  height                         bbox     source\n",
       "0       b6ab77fd7   1024    1024   [834.0, 222.0, 56.0, 36.0]    usask_1\n",
       "1       b6ab77fd7   1024    1024  [226.0, 548.0, 130.0, 58.0]    usask_1\n",
       "2       b6ab77fd7   1024    1024  [377.0, 504.0, 74.0, 160.0]    usask_1\n",
       "3       b6ab77fd7   1024    1024  [834.0, 95.0, 109.0, 107.0]    usask_1\n",
       "4       b6ab77fd7   1024    1024  [26.0, 144.0, 124.0, 117.0]    usask_1\n",
       "...           ...    ...     ...                          ...        ...\n",
       "147788  5e0747034   1024    1024    [64.0, 619.0, 84.0, 95.0]  arvalis_2\n",
       "147789  5e0747034   1024    1024  [292.0, 549.0, 107.0, 82.0]  arvalis_2\n",
       "147790  5e0747034   1024    1024  [134.0, 228.0, 141.0, 71.0]  arvalis_2\n",
       "147791  5e0747034   1024    1024   [430.0, 13.0, 184.0, 79.0]  arvalis_2\n",
       "147792  5e0747034   1024    1024   [875.0, 740.0, 94.0, 61.0]  arvalis_2\n",
       "\n",
       "[147793 rows x 5 columns]"
      ]
     },
     "execution_count": 3,
     "metadata": {},
     "output_type": "execute_result"
    }
   ],
   "source": [
    "labels"
   ]
  },
  {
   "cell_type": "markdown",
   "metadata": {},
   "source": [
    "The dataset contains the columns:\n",
    "* `image_id`: the unique identifier for each of the pictures. There is a row for every box, so each picture can occur multiple times\n",
    "* `width` & `height`: number of pixels of width and height of the pictures\n",
    "* `bbox`: coordinates for the box. They are in pixels and follow the format \\[x_min, y_min, width, height\\]\n",
    "* `source`: source of the picture. The pictures of the wheat were taken by different institutions across the world and the reason for the competition is that the models trained seem to work very well in one part of the world, but not generalize very well."
   ]
  },
  {
   "cell_type": "code",
   "execution_count": 4,
   "metadata": {},
   "outputs": [
    {
     "data": {
      "text/plain": [
       "3373"
      ]
     },
     "execution_count": 4,
     "metadata": {},
     "output_type": "execute_result"
    }
   ],
   "source": [
    "num_labels = np.shape(labels.image_id.unique())[0]\n",
    "num_labels"
   ]
  },
  {
   "cell_type": "markdown",
   "metadata": {},
   "source": [
    "This means there should be about 3373 pictures. It should be a little more, because the explanation of the dataset states, that there are several pictures that do not contain any boxes."
   ]
  },
  {
   "cell_type": "code",
   "execution_count": 5,
   "metadata": {},
   "outputs": [
    {
     "data": {
      "text/plain": [
       "3422"
      ]
     },
     "execution_count": 5,
     "metadata": {},
     "output_type": "execute_result"
    }
   ],
   "source": [
    "num_pics = len(os.listdir(\"./train\"))\n",
    "num_pics"
   ]
  },
  {
   "cell_type": "code",
   "execution_count": 6,
   "metadata": {},
   "outputs": [
    {
     "data": {
      "text/plain": [
       "49"
      ]
     },
     "execution_count": 6,
     "metadata": {},
     "output_type": "execute_result"
    }
   ],
   "source": [
    "num_pics - num_labels"
   ]
  },
  {
   "cell_type": "markdown",
   "metadata": {},
   "source": [
    "This means there are 49 pictures that do not contain any boxes. This is expected and not important when using yolov5, because it doesn't expect a .txt file for pictures that do not contain any boxes, so I won't have to make one"
   ]
  },
  {
   "cell_type": "code",
   "execution_count": 7,
   "metadata": {},
   "outputs": [
    {
     "data": {
      "text/plain": [
       "0          [834.0, 222.0, 56.0, 36.0]\n",
       "1         [226.0, 548.0, 130.0, 58.0]\n",
       "2         [377.0, 504.0, 74.0, 160.0]\n",
       "3         [834.0, 95.0, 109.0, 107.0]\n",
       "4         [26.0, 144.0, 124.0, 117.0]\n",
       "                     ...             \n",
       "147788      [64.0, 619.0, 84.0, 95.0]\n",
       "147789    [292.0, 549.0, 107.0, 82.0]\n",
       "147790    [134.0, 228.0, 141.0, 71.0]\n",
       "147791     [430.0, 13.0, 184.0, 79.0]\n",
       "147792     [875.0, 740.0, 94.0, 61.0]\n",
       "Name: bbox, Length: 147793, dtype: object"
      ]
     },
     "execution_count": 7,
     "metadata": {},
     "output_type": "execute_result"
    }
   ],
   "source": [
    "labels.bbox"
   ]
  },
  {
   "cell_type": "markdown",
   "metadata": {},
   "source": [
    "Now the individual pixel numbers need to be extracted. The individual lists are actually saved as lists, so I will use the pandas.Series.str.extract() method to extract the individual numbers to use for creating the txt files"
   ]
  },
  {
   "cell_type": "code",
   "execution_count": 8,
   "metadata": {},
   "outputs": [],
   "source": [
    "pixels = labels.bbox.str.extract(r'(\\d+\\.\\d+)\\,\\s(\\d+\\.\\d+)\\,\\s(\\d+\\.\\d+)\\,\\s(\\d+\\.\\d+)')\n",
    "pixels.columns = ['x_min', 'y_min', 'w_box', 'h_box']"
   ]
  },
  {
   "cell_type": "code",
   "execution_count": 9,
   "metadata": {},
   "outputs": [],
   "source": [
    "labels = pd.concat([labels,pixels], axis = 1)"
   ]
  },
  {
   "cell_type": "code",
   "execution_count": 10,
   "metadata": {},
   "outputs": [
    {
     "data": {
      "text/html": [
       "<div>\n",
       "<style scoped>\n",
       "    .dataframe tbody tr th:only-of-type {\n",
       "        vertical-align: middle;\n",
       "    }\n",
       "\n",
       "    .dataframe tbody tr th {\n",
       "        vertical-align: top;\n",
       "    }\n",
       "\n",
       "    .dataframe thead th {\n",
       "        text-align: right;\n",
       "    }\n",
       "</style>\n",
       "<table border=\"1\" class=\"dataframe\">\n",
       "  <thead>\n",
       "    <tr style=\"text-align: right;\">\n",
       "      <th></th>\n",
       "      <th>image_id</th>\n",
       "      <th>width</th>\n",
       "      <th>height</th>\n",
       "      <th>bbox</th>\n",
       "      <th>source</th>\n",
       "      <th>x_min</th>\n",
       "      <th>y_min</th>\n",
       "      <th>w_box</th>\n",
       "      <th>h_box</th>\n",
       "    </tr>\n",
       "  </thead>\n",
       "  <tbody>\n",
       "    <tr>\n",
       "      <th>0</th>\n",
       "      <td>b6ab77fd7</td>\n",
       "      <td>1024</td>\n",
       "      <td>1024</td>\n",
       "      <td>[834.0, 222.0, 56.0, 36.0]</td>\n",
       "      <td>usask_1</td>\n",
       "      <td>834.0</td>\n",
       "      <td>222.0</td>\n",
       "      <td>56.0</td>\n",
       "      <td>36.0</td>\n",
       "    </tr>\n",
       "    <tr>\n",
       "      <th>1</th>\n",
       "      <td>b6ab77fd7</td>\n",
       "      <td>1024</td>\n",
       "      <td>1024</td>\n",
       "      <td>[226.0, 548.0, 130.0, 58.0]</td>\n",
       "      <td>usask_1</td>\n",
       "      <td>226.0</td>\n",
       "      <td>548.0</td>\n",
       "      <td>130.0</td>\n",
       "      <td>58.0</td>\n",
       "    </tr>\n",
       "    <tr>\n",
       "      <th>2</th>\n",
       "      <td>b6ab77fd7</td>\n",
       "      <td>1024</td>\n",
       "      <td>1024</td>\n",
       "      <td>[377.0, 504.0, 74.0, 160.0]</td>\n",
       "      <td>usask_1</td>\n",
       "      <td>377.0</td>\n",
       "      <td>504.0</td>\n",
       "      <td>74.0</td>\n",
       "      <td>160.0</td>\n",
       "    </tr>\n",
       "    <tr>\n",
       "      <th>3</th>\n",
       "      <td>b6ab77fd7</td>\n",
       "      <td>1024</td>\n",
       "      <td>1024</td>\n",
       "      <td>[834.0, 95.0, 109.0, 107.0]</td>\n",
       "      <td>usask_1</td>\n",
       "      <td>834.0</td>\n",
       "      <td>95.0</td>\n",
       "      <td>109.0</td>\n",
       "      <td>107.0</td>\n",
       "    </tr>\n",
       "    <tr>\n",
       "      <th>4</th>\n",
       "      <td>b6ab77fd7</td>\n",
       "      <td>1024</td>\n",
       "      <td>1024</td>\n",
       "      <td>[26.0, 144.0, 124.0, 117.0]</td>\n",
       "      <td>usask_1</td>\n",
       "      <td>26.0</td>\n",
       "      <td>144.0</td>\n",
       "      <td>124.0</td>\n",
       "      <td>117.0</td>\n",
       "    </tr>\n",
       "  </tbody>\n",
       "</table>\n",
       "</div>"
      ],
      "text/plain": [
       "    image_id  width  height                         bbox   source  x_min  \\\n",
       "0  b6ab77fd7   1024    1024   [834.0, 222.0, 56.0, 36.0]  usask_1  834.0   \n",
       "1  b6ab77fd7   1024    1024  [226.0, 548.0, 130.0, 58.0]  usask_1  226.0   \n",
       "2  b6ab77fd7   1024    1024  [377.0, 504.0, 74.0, 160.0]  usask_1  377.0   \n",
       "3  b6ab77fd7   1024    1024  [834.0, 95.0, 109.0, 107.0]  usask_1  834.0   \n",
       "4  b6ab77fd7   1024    1024  [26.0, 144.0, 124.0, 117.0]  usask_1   26.0   \n",
       "\n",
       "   y_min  w_box  h_box  \n",
       "0  222.0   56.0   36.0  \n",
       "1  548.0  130.0   58.0  \n",
       "2  504.0   74.0  160.0  \n",
       "3   95.0  109.0  107.0  \n",
       "4  144.0  124.0  117.0  "
      ]
     },
     "execution_count": 10,
     "metadata": {},
     "output_type": "execute_result"
    }
   ],
   "source": [
    "labels.head(5)"
   ]
  },
  {
   "cell_type": "code",
   "execution_count": 11,
   "metadata": {},
   "outputs": [
    {
     "name": "stdout",
     "output_type": "stream",
     "text": [
      "<class 'pandas.core.frame.DataFrame'>\n",
      "RangeIndex: 147793 entries, 0 to 147792\n",
      "Data columns (total 9 columns):\n",
      " #   Column    Non-Null Count   Dtype \n",
      "---  ------    --------------   ----- \n",
      " 0   image_id  147793 non-null  object\n",
      " 1   width     147793 non-null  int64 \n",
      " 2   height    147793 non-null  int64 \n",
      " 3   bbox      147793 non-null  object\n",
      " 4   source    147793 non-null  object\n",
      " 5   x_min     126158 non-null  object\n",
      " 6   y_min     126158 non-null  object\n",
      " 7   w_box     126158 non-null  object\n",
      " 8   h_box     126158 non-null  object\n",
      "dtypes: int64(2), object(7)\n",
      "memory usage: 10.1+ MB\n"
     ]
    }
   ],
   "source": [
    "labels.info()"
   ]
  },
  {
   "cell_type": "markdown",
   "metadata": {},
   "source": [
    "The `width`, `height`, `x_min`, `y_min`, `w_box` and `h_box` columns are still in a str format, but they can be easily transformed with the pandas.Series.astype('float64') method"
   ]
  },
  {
   "cell_type": "code",
   "execution_count": 12,
   "metadata": {},
   "outputs": [],
   "source": [
    "labels.width = labels.width.astype('float64')\n",
    "labels.height = labels.height.astype('float64')\n",
    "labels.x_min = labels.x_min.astype('float64')\n",
    "labels.y_min = labels.y_min.astype('float64')\n",
    "labels.w_box = labels.w_box.astype('float64')\n",
    "labels.h_box = labels.h_box.astype('float64')"
   ]
  },
  {
   "cell_type": "code",
   "execution_count": 13,
   "metadata": {},
   "outputs": [
    {
     "name": "stdout",
     "output_type": "stream",
     "text": [
      "<class 'pandas.core.frame.DataFrame'>\n",
      "RangeIndex: 147793 entries, 0 to 147792\n",
      "Data columns (total 9 columns):\n",
      " #   Column    Non-Null Count   Dtype  \n",
      "---  ------    --------------   -----  \n",
      " 0   image_id  147793 non-null  object \n",
      " 1   width     147793 non-null  float64\n",
      " 2   height    147793 non-null  float64\n",
      " 3   bbox      147793 non-null  object \n",
      " 4   source    147793 non-null  object \n",
      " 5   x_min     126158 non-null  float64\n",
      " 6   y_min     126158 non-null  float64\n",
      " 7   w_box     126158 non-null  float64\n",
      " 8   h_box     126158 non-null  float64\n",
      "dtypes: float64(6), object(3)\n",
      "memory usage: 10.1+ MB\n"
     ]
    }
   ],
   "source": [
    "labels.info()"
   ]
  },
  {
   "cell_type": "markdown",
   "metadata": {},
   "source": [
    "Now to make the normed coordinates that yolo needs."
   ]
  },
  {
   "cell_type": "code",
   "execution_count": 14,
   "metadata": {},
   "outputs": [
    {
     "data": {
      "text/plain": [
       "0         0.244141\n",
       "1         0.598633\n",
       "2         0.528320\n",
       "3         0.145996\n",
       "4         0.201172\n",
       "            ...   \n",
       "147788    0.645508\n",
       "147789    0.588379\n",
       "147790    0.291504\n",
       "147791    0.102539\n",
       "147792    0.768555\n",
       "Length: 147793, dtype: float64"
      ]
     },
     "execution_count": 14,
     "metadata": {},
     "output_type": "execute_result"
    }
   ],
   "source": [
    "(labels.y_min + 0.5 * labels.w_box) / labels.height"
   ]
  },
  {
   "cell_type": "code",
   "execution_count": 15,
   "metadata": {},
   "outputs": [],
   "source": [
    "labels['object_class'] = 0 # object class for use by yolo all objects are wheat so class 0\n",
    "labels['x_center_norm'] = (labels.x_min + 0.5 * labels.w_box) / labels.width\n",
    "labels['y_center_norm'] = (labels.y_min + 0.5 * labels.h_box) / labels.height\n",
    "labels['width_norm'] = labels.w_box/labels.width\n",
    "labels['height_norm'] = labels.h_box/labels.height"
   ]
  },
  {
   "cell_type": "code",
   "execution_count": 16,
   "metadata": {},
   "outputs": [
    {
     "data": {
      "text/html": [
       "<div>\n",
       "<style scoped>\n",
       "    .dataframe tbody tr th:only-of-type {\n",
       "        vertical-align: middle;\n",
       "    }\n",
       "\n",
       "    .dataframe tbody tr th {\n",
       "        vertical-align: top;\n",
       "    }\n",
       "\n",
       "    .dataframe thead th {\n",
       "        text-align: right;\n",
       "    }\n",
       "</style>\n",
       "<table border=\"1\" class=\"dataframe\">\n",
       "  <thead>\n",
       "    <tr style=\"text-align: right;\">\n",
       "      <th></th>\n",
       "      <th>image_id</th>\n",
       "      <th>width</th>\n",
       "      <th>height</th>\n",
       "      <th>bbox</th>\n",
       "      <th>source</th>\n",
       "      <th>x_min</th>\n",
       "      <th>y_min</th>\n",
       "      <th>w_box</th>\n",
       "      <th>h_box</th>\n",
       "      <th>object_class</th>\n",
       "      <th>x_center_norm</th>\n",
       "      <th>y_center_norm</th>\n",
       "      <th>width_norm</th>\n",
       "      <th>height_norm</th>\n",
       "    </tr>\n",
       "  </thead>\n",
       "  <tbody>\n",
       "    <tr>\n",
       "      <th>0</th>\n",
       "      <td>b6ab77fd7</td>\n",
       "      <td>1024.0</td>\n",
       "      <td>1024.0</td>\n",
       "      <td>[834.0, 222.0, 56.0, 36.0]</td>\n",
       "      <td>usask_1</td>\n",
       "      <td>834.0</td>\n",
       "      <td>222.0</td>\n",
       "      <td>56.0</td>\n",
       "      <td>36.0</td>\n",
       "      <td>0</td>\n",
       "      <td>0.841797</td>\n",
       "      <td>0.234375</td>\n",
       "      <td>0.054688</td>\n",
       "      <td>0.035156</td>\n",
       "    </tr>\n",
       "    <tr>\n",
       "      <th>1</th>\n",
       "      <td>b6ab77fd7</td>\n",
       "      <td>1024.0</td>\n",
       "      <td>1024.0</td>\n",
       "      <td>[226.0, 548.0, 130.0, 58.0]</td>\n",
       "      <td>usask_1</td>\n",
       "      <td>226.0</td>\n",
       "      <td>548.0</td>\n",
       "      <td>130.0</td>\n",
       "      <td>58.0</td>\n",
       "      <td>0</td>\n",
       "      <td>0.284180</td>\n",
       "      <td>0.563477</td>\n",
       "      <td>0.126953</td>\n",
       "      <td>0.056641</td>\n",
       "    </tr>\n",
       "    <tr>\n",
       "      <th>2</th>\n",
       "      <td>b6ab77fd7</td>\n",
       "      <td>1024.0</td>\n",
       "      <td>1024.0</td>\n",
       "      <td>[377.0, 504.0, 74.0, 160.0]</td>\n",
       "      <td>usask_1</td>\n",
       "      <td>377.0</td>\n",
       "      <td>504.0</td>\n",
       "      <td>74.0</td>\n",
       "      <td>160.0</td>\n",
       "      <td>0</td>\n",
       "      <td>0.404297</td>\n",
       "      <td>0.570312</td>\n",
       "      <td>0.072266</td>\n",
       "      <td>0.156250</td>\n",
       "    </tr>\n",
       "    <tr>\n",
       "      <th>3</th>\n",
       "      <td>b6ab77fd7</td>\n",
       "      <td>1024.0</td>\n",
       "      <td>1024.0</td>\n",
       "      <td>[834.0, 95.0, 109.0, 107.0]</td>\n",
       "      <td>usask_1</td>\n",
       "      <td>834.0</td>\n",
       "      <td>95.0</td>\n",
       "      <td>109.0</td>\n",
       "      <td>107.0</td>\n",
       "      <td>0</td>\n",
       "      <td>0.867676</td>\n",
       "      <td>0.145020</td>\n",
       "      <td>0.106445</td>\n",
       "      <td>0.104492</td>\n",
       "    </tr>\n",
       "    <tr>\n",
       "      <th>4</th>\n",
       "      <td>b6ab77fd7</td>\n",
       "      <td>1024.0</td>\n",
       "      <td>1024.0</td>\n",
       "      <td>[26.0, 144.0, 124.0, 117.0]</td>\n",
       "      <td>usask_1</td>\n",
       "      <td>26.0</td>\n",
       "      <td>144.0</td>\n",
       "      <td>124.0</td>\n",
       "      <td>117.0</td>\n",
       "      <td>0</td>\n",
       "      <td>0.085938</td>\n",
       "      <td>0.197754</td>\n",
       "      <td>0.121094</td>\n",
       "      <td>0.114258</td>\n",
       "    </tr>\n",
       "  </tbody>\n",
       "</table>\n",
       "</div>"
      ],
      "text/plain": [
       "    image_id   width  height                         bbox   source  x_min  \\\n",
       "0  b6ab77fd7  1024.0  1024.0   [834.0, 222.0, 56.0, 36.0]  usask_1  834.0   \n",
       "1  b6ab77fd7  1024.0  1024.0  [226.0, 548.0, 130.0, 58.0]  usask_1  226.0   \n",
       "2  b6ab77fd7  1024.0  1024.0  [377.0, 504.0, 74.0, 160.0]  usask_1  377.0   \n",
       "3  b6ab77fd7  1024.0  1024.0  [834.0, 95.0, 109.0, 107.0]  usask_1  834.0   \n",
       "4  b6ab77fd7  1024.0  1024.0  [26.0, 144.0, 124.0, 117.0]  usask_1   26.0   \n",
       "\n",
       "   y_min  w_box  h_box  object_class  x_center_norm  y_center_norm  \\\n",
       "0  222.0   56.0   36.0             0       0.841797       0.234375   \n",
       "1  548.0  130.0   58.0             0       0.284180       0.563477   \n",
       "2  504.0   74.0  160.0             0       0.404297       0.570312   \n",
       "3   95.0  109.0  107.0             0       0.867676       0.145020   \n",
       "4  144.0  124.0  117.0             0       0.085938       0.197754   \n",
       "\n",
       "   width_norm  height_norm  \n",
       "0    0.054688     0.035156  \n",
       "1    0.126953     0.056641  \n",
       "2    0.072266     0.156250  \n",
       "3    0.106445     0.104492  \n",
       "4    0.121094     0.114258  "
      ]
     },
     "execution_count": 16,
     "metadata": {},
     "output_type": "execute_result"
    }
   ],
   "source": [
    "labels.head(5)"
   ]
  },
  {
   "cell_type": "markdown",
   "metadata": {},
   "source": [
    "now the only thing left to do is to create the label .txt files."
   ]
  },
  {
   "cell_type": "code",
   "execution_count": 17,
   "metadata": {},
   "outputs": [
    {
     "name": "stdout",
     "output_type": "stream",
     "text": [
      "Empty DataFrame\n",
      "Columns: [image_id, width, height, bbox, source, x_min, y_min, w_box, h_box, object_class, x_center_norm, y_center_norm, width_norm, height_norm]\n",
      "Index: []\n",
      "Empty DataFrame\n",
      "Columns: [image_id, width, height, bbox, source, x_min, y_min, w_box, h_box, object_class, x_center_norm, y_center_norm, width_norm, height_norm]\n",
      "Index: []\n",
      "Empty DataFrame\n",
      "Columns: [image_id, width, height, bbox, source, x_min, y_min, w_box, h_box, object_class, x_center_norm, y_center_norm, width_norm, height_norm]\n",
      "Index: []\n",
      "Empty DataFrame\n",
      "Columns: [image_id, width, height, bbox, source, x_min, y_min, w_box, h_box, object_class, x_center_norm, y_center_norm, width_norm, height_norm]\n",
      "Index: []\n",
      "Empty DataFrame\n",
      "Columns: [image_id, width, height, bbox, source, x_min, y_min, w_box, h_box, object_class, x_center_norm, y_center_norm, width_norm, height_norm]\n",
      "Index: []\n",
      "Empty DataFrame\n",
      "Columns: [image_id, width, height, bbox, source, x_min, y_min, w_box, h_box, object_class, x_center_norm, y_center_norm, width_norm, height_norm]\n",
      "Index: []\n",
      "Empty DataFrame\n",
      "Columns: [image_id, width, height, bbox, source, x_min, y_min, w_box, h_box, object_class, x_center_norm, y_center_norm, width_norm, height_norm]\n",
      "Index: []\n",
      "Empty DataFrame\n",
      "Columns: [image_id, width, height, bbox, source, x_min, y_min, w_box, h_box, object_class, x_center_norm, y_center_norm, width_norm, height_norm]\n",
      "Index: []\n",
      "Empty DataFrame\n",
      "Columns: [image_id, width, height, bbox, source, x_min, y_min, w_box, h_box, object_class, x_center_norm, y_center_norm, width_norm, height_norm]\n",
      "Index: []\n"
     ]
    }
   ],
   "source": [
    "for item in labels.image_id.unique()[0]:\n",
    "    print(labels[labels.image_id == item])"
   ]
  },
  {
   "cell_type": "code",
   "execution_count": 18,
   "metadata": {},
   "outputs": [],
   "source": [
    "id_nr = labels.image_id.unique()[0]\n",
    "# np.savetxt(r'./labels/'+id_nr+r'.txt', labels[labels.image_id == id_nr].iloc[:, 9:].values, sep = ',')\n",
    "labels[labels.image_id == id_nr].iloc[:, 9:].to_csv(r'./labels/'+id_nr+r'.txt', index = False, header = False)"
   ]
  },
  {
   "cell_type": "code",
   "execution_count": null,
   "metadata": {},
   "outputs": [],
   "source": []
  }
 ],
 "metadata": {
  "kernelspec": {
   "display_name": "Python 3",
   "language": "python",
   "name": "python3"
  },
  "language_info": {
   "codemirror_mode": {
    "name": "ipython",
    "version": 3
   },
   "file_extension": ".py",
   "mimetype": "text/x-python",
   "name": "python",
   "nbconvert_exporter": "python",
   "pygments_lexer": "ipython3",
   "version": "3.7.7"
  },
  "toc": {
   "base_numbering": 1,
   "nav_menu": {},
   "number_sections": false,
   "sideBar": true,
   "skip_h1_title": true,
   "title_cell": "Table of Contents",
   "title_sidebar": "Contents",
   "toc_cell": false,
   "toc_position": {},
   "toc_section_display": true,
   "toc_window_display": true
  },
  "varInspector": {
   "cols": {
    "lenName": 16,
    "lenType": 16,
    "lenVar": 40
   },
   "kernels_config": {
    "python": {
     "delete_cmd_postfix": "",
     "delete_cmd_prefix": "del ",
     "library": "var_list.py",
     "varRefreshCmd": "print(var_dic_list())"
    },
    "r": {
     "delete_cmd_postfix": ") ",
     "delete_cmd_prefix": "rm(",
     "library": "var_list.r",
     "varRefreshCmd": "cat(var_dic_list()) "
    }
   },
   "types_to_exclude": [
    "module",
    "function",
    "builtin_function_or_method",
    "instance",
    "_Feature"
   ],
   "window_display": false
  }
 },
 "nbformat": 4,
 "nbformat_minor": 4
}
